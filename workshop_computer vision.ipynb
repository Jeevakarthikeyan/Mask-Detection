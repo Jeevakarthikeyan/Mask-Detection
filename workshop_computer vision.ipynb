{
 "cells": [
  {
   "cell_type": "code",
   "execution_count": 2,
   "metadata": {},
   "outputs": [
    {
     "name": "stdout",
     "output_type": "stream",
     "text": [
      "Collecting opencv-pythonNote: you may need to restart the kernel to use updated packages.\n",
      "  Downloading opencv_python-4.5.2.54-cp38-cp38-win_amd64.whl (34.7 MB)\n",
      "Requirement already satisfied: numpy>=1.17.3 in c:\\users\\elcot\\anaconda3\\lib\\site-packages (from opencv-python) (1.19.2)\n",
      "Installing collected packages: opencv-python\n",
      "Successfully installed opencv-python-4.5.2.54\n",
      "\n"
     ]
    }
   ],
   "source": [
    "pip install opencv-python"
   ]
  },
  {
   "cell_type": "code",
   "execution_count": 1,
   "metadata": {},
   "outputs": [],
   "source": [
    "import cv2"
   ]
  },
  {
   "cell_type": "code",
   "execution_count": 2,
   "metadata": {},
   "outputs": [],
   "source": [
    "import numpy as np\n",
    "import matplotlib.pyplot as plt\n",
    "import pandas as pd\n",
    "from skimage import io\n",
    "from PIL import Image\n",
    "from matplotlib.pyplot import imshow\n",
    "import cv2 as cv\n"
   ]
  },
  {
   "cell_type": "markdown",
   "metadata": {},
   "source": [
    "# Read Image"
   ]
  },
  {
   "cell_type": "code",
   "execution_count": 3,
   "metadata": {},
   "outputs": [],
   "source": [
    "image = cv.imread('artificial-intelligence-current-state.webp')"
   ]
  },
  {
   "cell_type": "code",
   "execution_count": 4,
   "metadata": {},
   "outputs": [
    {
     "data": {
      "text/plain": [
       "array([[[134, 130, 129],\n",
       "        [134, 130, 129],\n",
       "        [134, 130, 129],\n",
       "        ...,\n",
       "        [131, 128, 131],\n",
       "        [131, 128, 131],\n",
       "        [131, 128, 131]],\n",
       "\n",
       "       [[  6,   2,   1],\n",
       "        [  6,   2,   1],\n",
       "        [  6,   2,   1],\n",
       "        ...,\n",
       "        [  3,   0,   3],\n",
       "        [  3,   0,   3],\n",
       "        [  3,   0,   3]],\n",
       "\n",
       "       [[ 10,   6,   4],\n",
       "        [ 10,   6,   4],\n",
       "        [ 10,   6,   4],\n",
       "        ...,\n",
       "        [  7,   3,   6],\n",
       "        [  7,   3,   6],\n",
       "        [  7,   3,   6]],\n",
       "\n",
       "       ...,\n",
       "\n",
       "       [[  3,   3,   3],\n",
       "        [  3,   3,   3],\n",
       "        [  3,   3,   3],\n",
       "        ...,\n",
       "        [  0,   0,   0],\n",
       "        [  0,   0,   0],\n",
       "        [  0,   0,   0]],\n",
       "\n",
       "       [[  0,   0,   0],\n",
       "        [  0,   0,   0],\n",
       "        [  0,   0,   0],\n",
       "        ...,\n",
       "        [  7,   7,   7],\n",
       "        [  7,   7,   7],\n",
       "        [  7,   7,   7]],\n",
       "\n",
       "       [[128, 128, 128],\n",
       "        [128, 128, 128],\n",
       "        [128, 128, 128],\n",
       "        ...,\n",
       "        [126, 126, 126],\n",
       "        [126, 126, 126],\n",
       "        [126, 126, 126]]], dtype=uint8)"
      ]
     },
     "execution_count": 4,
     "metadata": {},
     "output_type": "execute_result"
    }
   ],
   "source": [
    "image"
   ]
  },
  {
   "cell_type": "code",
   "execution_count": 6,
   "metadata": {},
   "outputs": [],
   "source": [
    "cv2.imshow(\"result\",image)"
   ]
  },
  {
   "cell_type": "code",
   "execution_count": 12,
   "metadata": {},
   "outputs": [
    {
     "data": {
      "text/plain": [
       "array([[[134, 130, 129],\n",
       "        [134, 130, 129],\n",
       "        [134, 130, 129],\n",
       "        ...,\n",
       "        [131, 128, 131],\n",
       "        [131, 128, 131],\n",
       "        [131, 128, 131]],\n",
       "\n",
       "       [[  6,   2,   1],\n",
       "        [  6,   2,   1],\n",
       "        [  6,   2,   1],\n",
       "        ...,\n",
       "        [  3,   0,   3],\n",
       "        [  3,   0,   3],\n",
       "        [  3,   0,   3]],\n",
       "\n",
       "       [[ 10,   6,   4],\n",
       "        [ 10,   6,   4],\n",
       "        [ 10,   6,   4],\n",
       "        ...,\n",
       "        [  7,   3,   6],\n",
       "        [  7,   3,   6],\n",
       "        [  7,   3,   6]],\n",
       "\n",
       "       ...,\n",
       "\n",
       "       [[  3,   3,   3],\n",
       "        [  3,   3,   3],\n",
       "        [  3,   3,   3],\n",
       "        ...,\n",
       "        [  0,   0,   0],\n",
       "        [  0,   0,   0],\n",
       "        [  0,   0,   0]],\n",
       "\n",
       "       [[  0,   0,   0],\n",
       "        [  0,   0,   0],\n",
       "        [  0,   0,   0],\n",
       "        ...,\n",
       "        [  7,   7,   7],\n",
       "        [  7,   7,   7],\n",
       "        [  7,   7,   7]],\n",
       "\n",
       "       [[128, 128, 128],\n",
       "        [128, 128, 128],\n",
       "        [128, 128, 128],\n",
       "        ...,\n",
       "        [126, 126, 126],\n",
       "        [126, 126, 126],\n",
       "        [126, 126, 126]]], dtype=uint8)"
      ]
     },
     "metadata": {},
     "output_type": "display_data"
    }
   ],
   "source": [
    "from IPython.display import display, clear_output\n",
    "\n",
    "# convert color from CV2 BGR back to RGB\n",
    "image = cv2.cvtColor(image, cv2.COLOR_BGR2RGB)\n",
    "display(image)"
   ]
  },
  {
   "cell_type": "code",
   "execution_count": null,
   "metadata": {},
   "outputs": [],
   "source": []
  },
  {
   "cell_type": "code",
   "execution_count": 9,
   "metadata": {},
   "outputs": [],
   "source": [
    "url = \"https://iiif.lib.ncsu.edu/iiif/0052574/full/800,/0/default.jpg\"\n",
    "im = io.imread(url)"
   ]
  },
  {
   "cell_type": "code",
   "execution_count": 11,
   "metadata": {},
   "outputs": [
    {
     "data": {
      "text/plain": [
       "array([[[ 89, 151, 212],\n",
       "        [ 92, 154, 213],\n",
       "        [ 94, 156, 215],\n",
       "        ...,\n",
       "        [ 48, 117, 176],\n",
       "        [ 47, 116, 175],\n",
       "        [ 45, 114, 173]],\n",
       "\n",
       "       [[ 91, 153, 214],\n",
       "        [ 92, 154, 213],\n",
       "        [ 92, 154, 213],\n",
       "        ...,\n",
       "        [ 47, 116, 175],\n",
       "        [ 46, 115, 174],\n",
       "        [ 45, 114, 173]],\n",
       "\n",
       "       [[ 90, 152, 213],\n",
       "        [ 91, 153, 212],\n",
       "        [ 90, 152, 211],\n",
       "        ...,\n",
       "        [ 48, 114, 174],\n",
       "        [ 48, 114, 174],\n",
       "        [ 48, 114, 174]],\n",
       "\n",
       "       ...,\n",
       "\n",
       "       [[160, 132, 120],\n",
       "        [167, 145, 122],\n",
       "        [176, 159, 133],\n",
       "        ...,\n",
       "        [  0,   0,   0],\n",
       "        [  0,   0,   0],\n",
       "        [  0,   0,   0]],\n",
       "\n",
       "       [[157, 129, 117],\n",
       "        [167, 145, 124],\n",
       "        [170, 154, 128],\n",
       "        ...,\n",
       "        [  0,   0,   0],\n",
       "        [  0,   0,   0],\n",
       "        [  0,   0,   0]],\n",
       "\n",
       "       [[148, 122, 109],\n",
       "        [161, 139, 118],\n",
       "        [163, 147, 122],\n",
       "        ...,\n",
       "        [  0,   0,   0],\n",
       "        [  0,   0,   0],\n",
       "        [  0,   0,   0]]], dtype=uint8)"
      ]
     },
     "execution_count": 11,
     "metadata": {},
     "output_type": "execute_result"
    }
   ],
   "source": [
    "im"
   ]
  },
  {
   "cell_type": "code",
   "execution_count": null,
   "metadata": {},
   "outputs": [],
   "source": []
  }
 ],
 "metadata": {
  "kernelspec": {
   "display_name": "Python 3",
   "language": "python",
   "name": "python3"
  },
  "language_info": {
   "codemirror_mode": {
    "name": "ipython",
    "version": 3
   },
   "file_extension": ".py",
   "mimetype": "text/x-python",
   "name": "python",
   "nbconvert_exporter": "python",
   "pygments_lexer": "ipython3",
   "version": "3.8.5"
  }
 },
 "nbformat": 4,
 "nbformat_minor": 4
}
